{
 "cells": [
  {
   "cell_type": "code",
   "execution_count": 1,
   "id": "cff1fe39",
   "metadata": {},
   "outputs": [],
   "source": [
    "import pandas as pd"
   ]
  },
  {
   "cell_type": "code",
   "execution_count": null,
   "id": "0a820472",
   "metadata": {},
   "outputs": [],
   "source": [
    "df = df[df['mel_type'] == mel_type]\n",
    "    if scope == 'unique':\n",
    "        df = df.drop_duplicates(subset='reaction_id_type')\n",
    "\n",
    "    return df['reaction_id'].dropna().astype(str).unique().tolist()"
   ]
  },
  {
   "cell_type": "code",
   "execution_count": 1,
   "id": "87129714",
   "metadata": {},
   "outputs": [],
   "source": [
    "from rdkit import Chem\n",
    "from rdkit.Chem import Draw, AllChem\n"
   ]
  },
  {
   "cell_type": "code",
   "execution_count": null,
   "id": "0ae816f0",
   "metadata": {},
   "outputs": [
    {
     "name": "stdout",
     "output_type": "stream",
     "text": [
      "[⚠️] No products generated.\n"
     ]
    }
   ],
   "source": [
    "from rdkit import Chem\n",
    "from rdkit.Chem import Draw, AllChem, rdChemReactions\n",
    "\n",
    "# === INPUTS ===\n",
    "synthon1 = \"O=C(O)c1ccc(C[U])cc1\"       # e.g. tagged acid\n",
    "synthon2 = \"[13CH3][16N]([14CH]=[14CH][14C@@H]([16NH]1)[Am])[14C]1=[18O]\"  # tagged amine-like\n",
    "synthon3 = \"CCOC(=O)C1=C(C(C)F)N([Pu])C(=O)NC1[Am]\"  # tagged pseudo-urea\n",
    "\n",
    "# Strict 3-component SMARTS with tagged atoms\n",
    "rxn_smarts = \"[*:1][U].[*:2][Np].([Pu][*:3].[*:4][Am])>>([*:1][*:3].[*:4][*:2])\"\n",
    "\n",
    "# === MOLECULE CREATION ===\n",
    "mol1 = Chem.MolFromSmiles(synthon1)\n",
    "mol2 = Chem.MolFromSmiles(synthon2)\n",
    "mol3 = Chem.MolFromSmiles(synthon3)\n",
    "\n",
    "# Show input molecules\n",
    "Draw.MolsToImage([mol1, mol2, mol3], legends=[\"Synthon 1\", \"Synthon 2\", \"Synthon 3\"])\n",
    "\n"
   ]
  },
  {
   "cell_type": "code",
   "execution_count": 5,
   "id": "04386e74",
   "metadata": {},
   "outputs": [
    {
     "name": "stdout",
     "output_type": "stream",
     "text": [
      "[⚠️] No products generated.\n"
     ]
    }
   ],
   "source": [
    "try:\n",
    "    # Define the reaction\n",
    "    rxn = AllChem.ReactionFromSmarts(rxn_smarts)\n",
    "    \n",
    "    # Combine the 3 components\n",
    "    reactants = [mol for mol in [mol1, mol2, mol3] if mol is not None]\n",
    "    if len(reactants) != 3:\n",
    "        raise ValueError(\"All three synthons must be valid molecules.\")\n",
    "\n",
    "    # Run reaction\n",
    "    products = rxn.RunReactants(reactants)\n",
    "\n",
    "    if not products:\n",
    "        print(\"[⚠️] No products generated.\")\n",
    "    else:\n",
    "        # Just show one product per reaction outcome\n",
    "        product_mols = [p[0] for p in products if p and p[0] is not None]\n",
    "        if product_mols:\n",
    "            Draw.MolsToImage(product_mols, legends=[f\"Product {i+1}\" for i in range(len(product_mols))])\n",
    "        else:\n",
    "            print(\"[⚠️] Reaction ran but no interpretable products.\")\n",
    "\n",
    "except Exception as e:\n",
    "    print(f\"[❌] Reaction failed: {e}\")\n",
    "    try:\n",
    "        print(f\"[Debug] RXN SMARTS: {AllChem.ReactionToSmarts(rxn)}\")\n",
    "    except:\n",
    "        print(\"[Debug] Couldn't extract SMARTS.\")\n"
   ]
  }
 ],
 "metadata": {
  "kernelspec": {
   "display_name": "main",
   "language": "python",
   "name": "python3"
  },
  "language_info": {
   "codemirror_mode": {
    "name": "ipython",
    "version": 3
   },
   "file_extension": ".py",
   "mimetype": "text/x-python",
   "name": "python",
   "nbconvert_exporter": "python",
   "pygments_lexer": "ipython3",
   "version": "3.13.0"
  }
 },
 "nbformat": 4,
 "nbformat_minor": 5
}
